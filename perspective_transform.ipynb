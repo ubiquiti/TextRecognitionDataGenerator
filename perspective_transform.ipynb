{
 "cells": [
  {
   "cell_type": "code",
   "execution_count": 1,
   "metadata": {},
   "outputs": [
    {
     "name": "stdout",
     "output_type": "stream",
     "text": [
      "Requirement already satisfied: tqdm in /home/ui/.virtualenvs/text-generator/lib/python3.7/site-packages (4.61.1)\n",
      "\u001b[33mWARNING: You are using pip version 21.1.2; however, version 21.1.3 is available.\n",
      "You should consider upgrading via the '/home/ui/.virtualenvs/text-generator/bin/python -m pip install --upgrade pip' command.\u001b[0m\n"
     ]
    }
   ],
   "source": [
    "! pip install tqdm"
   ]
  },
  {
   "cell_type": "code",
   "execution_count": 4,
   "metadata": {},
   "outputs": [
    {
     "name": "stderr",
     "output_type": "stream",
     "text": [
      "  3%|▎         | 1627/50000 [01:45<58:57, 13.68it/s]"
     ]
    }
   ],
   "source": [
    "%matplotlib inline\n",
    "import matplotlib.pyplot as plt\n",
    "from IPython.display import clear_output\n",
    "import cv2\n",
    "import os\n",
    "import time\n",
    "import shutil\n",
    "import random\n",
    "from tqdm import tqdm\n",
    "\n",
    "import sys\n",
    "sys.path.append(\"/home/ui/workspace/open-source/TextSynthesis/Rotate3D\")\n",
    "\n",
    "from image_transformer import ImageTransformer\n",
    "\n",
    "dir_in = \"/home/ui/workspace/open-source/TextSynthesis/TextGenerator/out\"\n",
    "dir_out = \"/home/ui/workspace/open-source/TextSynthesis/synthesis_data/\"\n",
    "rotates = 10\n",
    "\n",
    "\n",
    "if os.path.exists(dir_out):\n",
    "    shutil.rmtree(dir_out)\n",
    "\n",
    "os.mkdir(dir_out)\n",
    "\n",
    "image_paths = os.listdir(dir_in)\n",
    "image_paths = [image_path for image_path in image_paths if image_path.endswith(\".jpg\")]\n",
    "\n",
    "\n",
    "for image_path in tqdm(image_paths):\n",
    "    file_path_in = f\"{dir_in}/{image_path}\"\n",
    "    transformer = ImageTransformer(file_path_in, shape=None)\n",
    "\n",
    "    for rotate in range(rotates):\n",
    "        theta = random.randint(-45, 45)\n",
    "        phi = random.randint(-45, 45)\n",
    "        file_path_out = f\"{dir_out}/{image_path.split('.')[0]}_{theta}_{phi}.jpg\"\n",
    "        \n",
    "        rotated_img = transformer.rotate_along_axis(theta=theta, phi=phi)\n",
    "\n",
    "        cv2.imwrite(file_path_out, rotated_img)\n",
    "        # plt.imshow(rotated_img)\n",
    "        # plt.show()\n",
    "        # time.sleep(0.3)\n",
    "        # clear_output()\n",
    "\n",
    "\n"
   ]
  },
  {
   "cell_type": "code",
   "execution_count": null,
   "metadata": {},
   "outputs": [],
   "source": []
  }
 ],
 "metadata": {
  "interpreter": {
   "hash": "3c4af58c6ee6e2cbc8f62e3400764c5bb101339fd5807e4311357bfc342bfa37"
  },
  "kernelspec": {
   "display_name": "Python 3.7.10 64-bit ('text-generator': virtualenvwrapper)",
   "name": "python3"
  },
  "language_info": {
   "codemirror_mode": {
    "name": "ipython",
    "version": 3
   },
   "file_extension": ".py",
   "mimetype": "text/x-python",
   "name": "python",
   "nbconvert_exporter": "python",
   "pygments_lexer": "ipython3",
   "version": "3.7.10"
  },
  "orig_nbformat": 4
 },
 "nbformat": 4,
 "nbformat_minor": 2
}